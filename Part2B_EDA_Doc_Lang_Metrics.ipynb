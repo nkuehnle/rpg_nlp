{
 "cells": [
  {
   "attachments": {},
   "cell_type": "markdown",
   "id": "e0b065b8-4e3b-40b6-ad48-a5caf61702ea",
   "metadata": {
    "tags": []
   },
   "source": [
    "# Imports/setting up directories\n",
    "Note: I'm using the dark grid style for seaborn (my prefered plotting library)"
   ]
  },
  {
   "cell_type": "code",
   "execution_count": null,
   "id": "2e95b35c-1945-424c-9b28-dab9401ab574",
   "metadata": {},
   "outputs": [],
   "source": [
    "%load_ext jupyter_black\n",
    "# Utilities\n",
    "import os\n",
    "from pathlib import Path\n",
    "\n",
    "# Data handling / generic ML\n",
    "import pandas as pd\n",
    "import numpy as np\n",
    "# Visualization\n",
    "import matplotlib.pyplot as plt\n",
    "import seaborn as sns\n",
    "\n",
    "sns.set_style(\"whitegrid\")\n",
    "\n",
    "# Custom\n",
    "from src.eda_utils import pref_pairplot, pref_violinplots"
   ]
  },
  {
   "cell_type": "code",
   "execution_count": null,
   "id": "9fcfff12",
   "metadata": {},
   "outputs": [],
   "source": [
    "CWD = Path(os.getcwd())\n",
    "DATA = CWD / \"data\"\n",
    "CORPUS_FILES = DATA / \"corpus_files\"\n",
    "EDA = CWD / \"eda\"\n",
    "LANG_METRICS = EDA / \"doc_language_metrics\""
   ]
  },
  {
   "cell_type": "code",
   "execution_count": null,
   "id": "ff31a9a2",
   "metadata": {},
   "outputs": [],
   "source": [
    "EDA.mkdir(parents=True, exist_ok=True)\n",
    "LANG_METRICS.mkdir(parents=True, exist_ok=True)"
   ]
  },
  {
   "attachments": {},
   "cell_type": "markdown",
   "id": "4b301aee-fd1c-42f6-8e56-36843367d43b",
   "metadata": {},
   "source": [
    "# Exploratory data analysis"
   ]
  },
  {
   "cell_type": "code",
   "execution_count": null,
   "id": "316812fa-d199-4b9a-aa6b-7adc9dec7144",
   "metadata": {},
   "outputs": [],
   "source": [
    "doc_corpus_path = CORPUS_FILES / \"document_corpus.pkl\"\n",
    "doc_df: pd.DataFrame = pd.read_pickle(doc_corpus_path)\n",
    "doc_df = doc_df[~doc_df[\"submission_flair\"].isna()].copy()\n",
    "doc_df = doc_df.sort_values(by=\"UID\")\n",
    "doc_df.info()"
   ]
  },
  {
   "cell_type": "code",
   "execution_count": null,
   "id": "d71215ef",
   "metadata": {},
   "outputs": [],
   "source": [
    "pref_pairplot(\"raw_md\")"
   ]
  },
  {
   "cell_type": "code",
   "execution_count": null,
   "id": "adeaa59a",
   "metadata": {},
   "outputs": [],
   "source": [
    "violinplots(\"raw_md\")"
   ]
  },
  {
   "cell_type": "code",
   "execution_count": null,
   "id": "b0593775",
   "metadata": {},
   "outputs": [],
   "source": [
    "pref_pairplot(\"clean_md\")"
   ]
  },
  {
   "cell_type": "code",
   "execution_count": null,
   "id": "ff8ccccb",
   "metadata": {},
   "outputs": [],
   "source": [
    "pref_violinplots(\"clean_md\")"
   ]
  },
  {
   "cell_type": "code",
   "execution_count": null,
   "id": "601bcd8b",
   "metadata": {},
   "outputs": [],
   "source": [
    "pref_pairplot(\"doc_main\")"
   ]
  },
  {
   "cell_type": "code",
   "execution_count": null,
   "id": "734792d9",
   "metadata": {},
   "outputs": [],
   "source": [
    "pref_violinplots(\"doc_main\")"
   ]
  },
  {
   "cell_type": "code",
   "execution_count": null,
   "id": "28533224",
   "metadata": {},
   "outputs": [],
   "source": [
    "pref_pairplot(\"doc_credit\")"
   ]
  },
  {
   "cell_type": "code",
   "execution_count": null,
   "id": "858892d2",
   "metadata": {},
   "outputs": [],
   "source": [
    "pref_violinplots(\"doc_credit\")"
   ]
  },
  {
   "cell_type": "code",
   "execution_count": null,
   "id": "fa354d17",
   "metadata": {},
   "outputs": [],
   "source": [
    "sns.scatterplot(\n",
    "    data=doc_df,\n",
    "    x=\"raw_md_char_count\",\n",
    "    y=\"clean_md_char_count\",\n",
    "    hue=\"submission_flair\",\n",
    ")\n",
    "plt.title(\"Cleaned vs Raw \", fontsize=20)\n",
    "plt.ylabel(\"# Characters (Clean MD)\", fontsize=16)\n",
    "plt.xlabel(\"# Characters (Raw MD)\", fontsize=16)\n",
    "plt.savefig(f\"{LANG_METRICS/'clean_v_raw_chars.pdf'}\");"
   ]
  },
  {
   "cell_type": "code",
   "execution_count": null,
   "id": "9b541f1d",
   "metadata": {},
   "outputs": [],
   "source": [
    "doc_df[\"cleaned_chars\"] = doc_df[\"raw_md_char_count\"] - doc_df[\"clean_md_char_count\"]\n",
    "sns.scatterplot(\n",
    "    data=doc_df,\n",
    "    y=\"cleaned_chars\",\n",
    "    x=\"raw_md_char_count\",\n",
    "    hue=\"submission_flair\",\n",
    ")\n",
    "plt.title(\"Characters Removed vs Raw Characters\", fontsize=20)\n",
    "plt.xlabel(\"# Characters (Raw MD)\", fontsize=16)\n",
    "plt.ylabel(\"# Characters Removed\", fontsize=16)\n",
    "plt.savefig(f\"{LANG_METRICS/'char_removed_v_raw_chars.pdf'}\");"
   ]
  },
  {
   "cell_type": "code",
   "execution_count": null,
   "id": "d44fd4e5",
   "metadata": {},
   "outputs": [],
   "source": [
    "doc_df[\"%Cleaned\"] = (doc_df[\"cleaned_chars\"] / doc_df[\"raw_md_char_count\"]) * 100\n",
    "sns.histplot(data=doc_df, x=\"%Cleaned\")\n",
    "plt.title(\"% Characters Cleaned\", fontsize=20)\n",
    "plt.savefig(f\"{LANG_METRICS/'pct_chars_removed_dist.pdf'}\");"
   ]
  },
  {
   "cell_type": "code",
   "execution_count": null,
   "id": "7b916515",
   "metadata": {},
   "outputs": [],
   "source": [
    "doc_df[\"%Credit\"] = (\n",
    "    doc_df[\"doc_credit_char_count\"]\n",
    "    / (doc_df[\"doc_credit_char_count\"] + doc_df[\"doc_main_char_count\"])\n",
    "    * 100\n",
    ")\n",
    "sns.histplot(data=doc_df, x=\"%Credit\")\n",
    "plt.title(\"% Credit Text\", fontsize=20)\n",
    "plt.savefig(f\"{LANG_METRICS/'pct_credit_dist.pdf'}\");"
   ]
  },
  {
   "cell_type": "code",
   "execution_count": null,
   "id": "581082a1",
   "metadata": {},
   "outputs": [],
   "source": [
    "doc_df[\"%Credit\"] = (\n",
    "    doc_df[\"doc_credit_char_count\"]\n",
    "    / (doc_df[\"doc_credit_char_count\"] + doc_df[\"doc_main_char_count\"])\n",
    "    * 100\n",
    ")\n",
    "sns.scatterplot(\n",
    "    data=doc_df,\n",
    "    x=\"%Cleaned\",\n",
    "    y=\"%Credit\",\n",
    "    hue=\"submission_flair\",\n",
    ")\n",
    "plt.title(\"% Characters Cleaned vs % Credit\", fontsize=20)\n",
    "plt.savefig(f\"{LANG_METRICS/'pct_chars_removed_v_pct_credit.pdf'}\");"
   ]
  },
  {
   "cell_type": "code",
   "execution_count": null,
   "id": "f4913e9b",
   "metadata": {},
   "outputs": [],
   "source": [
    "sns.scatterplot(\n",
    "    data=doc_df,\n",
    "    x=\"doc_main_char_count\",\n",
    "    y=\"%Credit\",\n",
    "    hue=\"submission_flair\",\n",
    ")\n",
    "plt.title(\"% Characters Cleaned vs % Credit\", fontsize=20)\n",
    "plt.savefig(f\"{LANG_METRICS/'pct_chars_removed_v_pct_credit.pdf'}\");"
   ]
  },
  {
   "cell_type": "code",
   "execution_count": null,
   "id": "d38c072b",
   "metadata": {},
   "outputs": [],
   "source": [
    "credit_clean_cols = [\n",
    "    \"UID\",\n",
    "    \"%Cleaned\",\n",
    "    \"%Credit\",\n",
    "    \"submission_flair\",\n",
    "    \"credit_text\",\n",
    "    \"clean_text\",\n",
    "]"
   ]
  },
  {
   "cell_type": "code",
   "execution_count": null,
   "id": "3285e946",
   "metadata": {},
   "outputs": [],
   "source": [
    "unusual_credit = doc_df[\n",
    "    (doc_df[\"%Credit\"] > 10) & (doc_df[\"submission_flair\"] != \"Monster\")\n",
    "].sort_values(\"%Credit\", ascending=False)[credit_clean_cols]\n",
    "unusual_credit.to_csv(EDA / \"high_credit_ratio_texts.csv\", index=False)\n",
    "unusual_credit"
   ]
  },
  {
   "cell_type": "code",
   "execution_count": null,
   "id": "00830f1a",
   "metadata": {},
   "outputs": [],
   "source": [
    "unusual_cleaning = doc_df[\n",
    "    (doc_df[\"%Cleaned\"] > 20) & (doc_df[\"%Credit\"] <= 10)\n",
    "].sort_values(\"%Cleaned\", ascending=False)[credit_clean_cols]\n",
    "unusual_cleaning.to_csv(EDA / \"high_cleaning_ratio_texts.csv\", index=False)\n",
    "unusual_cleaning"
   ]
  },
  {
   "attachments": {},
   "cell_type": "markdown",
   "id": "e44e1e6d",
   "metadata": {},
   "source": [
    "### Investigating word/sentence length outliers"
   ]
  },
  {
   "cell_type": "code",
   "execution_count": null,
   "id": "e95b37c3",
   "metadata": {},
   "outputs": [],
   "source": [
    "word_q75, word_q25 = np.percentile(doc_df[\"doc_main_avg_word_len\"], [75, 25])\n",
    "word_iqr = word_q75 - word_q25\n",
    "word_inds = (doc_df[\"doc_main_avg_word_len\"] >= word_q75 + word_iqr) & (\n",
    "    doc_df[\"doc_main_avg_word_len\"] <= word_q25 - word_iqr\n",
    ")\n",
    "\n",
    "sent_q75, sent_q25 = np.percentile(doc_df[\"doc_main_avg_sent_len\"], [75, 25])\n",
    "sent_iqr = sent_q75 - sent_q25\n",
    "median = np.median(doc_df[\"doc_main_avg_sent_len\"])\n",
    "sent_inds = (doc_df[\"doc_main_avg_sent_len\"] >= median + (sent_iqr * 1.5)) & (\n",
    "    doc_df[\"doc_main_avg_sent_len\"] <= median + (sent_iqr * 1.5)\n",
    ")\n",
    "\n",
    "sent_words_cols = [\n",
    "    \"UID\",\n",
    "    \"doc_main_avg_word_len\",\n",
    "    \"doc_main_avg_sent_len\",\n",
    "    \"submission_flair\",\n",
    "    \"clean_text\",\n",
    "]"
   ]
  },
  {
   "cell_type": "code",
   "execution_count": null,
   "id": "e1ac77c3",
   "metadata": {},
   "outputs": [],
   "source": [
    "doc_df[sent_inds | word_inds][sent_words_cols].to_csv(\n",
    "    DATA / \"word_and_sent_len_outliers.csv\"\n",
    ")\n",
    "doc_df[sent_inds | word_inds][sent_words_cols]"
   ]
  },
  {
   "cell_type": "code",
   "execution_count": null,
   "id": "d79cd4ba",
   "metadata": {},
   "outputs": [],
   "source": [
    "sns.histplot(data=doc_df, x=\"num_sections\", hue=\"submission_flair\")\n",
    "plt.title(\"Total Section Count\", fontsize=20)\n",
    "plt.savefig(f\"{LANG_METRICS/'doc_section_count.pdf'}\");"
   ]
  },
  {
   "cell_type": "code",
   "execution_count": null,
   "id": "abee2ef7",
   "metadata": {},
   "outputs": [],
   "source": [
    "doc_df[\"log2_num_sections\"] = np.log2(doc_df[\"num_sections\"])\n",
    "sns.histplot(data=doc_df, x=\"log2_num_sections\", hue=\"submission_flair\")\n",
    "plt.title(\"Total Section Count\", fontsize=20)\n",
    "plt.savefig(f\"{LANG_METRICS/'doc_log2section_count.pdf'}\");"
   ]
  }
 ],
 "metadata": {
  "kernelspec": {
   "display_name": "py310",
   "language": "python",
   "name": "python3"
  },
  "language_info": {
   "codemirror_mode": {
    "name": "ipython",
    "version": 3
   },
   "file_extension": ".py",
   "mimetype": "text/x-python",
   "name": "python",
   "nbconvert_exporter": "python",
   "pygments_lexer": "ipython3",
   "version": "3.10.9"
  }
 },
 "nbformat": 4,
 "nbformat_minor": 5
}
