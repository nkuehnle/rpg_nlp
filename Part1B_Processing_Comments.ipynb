{
 "cells": [
  {
   "attachments": {},
   "cell_type": "markdown",
   "id": "israeli-expression",
   "metadata": {},
   "source": [
    "# Project Overview\n",
    "In this notebook and subsequent notebooks I will attempt to predict mechanically meaningful labels associated with some fan-generated roleplaying game (RPG) content.\n",
    "\n",
    "I collected post and comment data from Reddit in multiple runs using a command-line tool I wrote for this purpose (see: [PRAW-CoDiaLS](https://github.com/nkuehnle/praw-codials))\n",
    "\n",
    "The actual text I will be attempting to predict is hosted on one of two websites: [GM Binder](https://gmbinder.com/) or [Homebrewery](https://homebrewery.naturalcrit.com/), which are tools/content hosting providers for fan-made RPG content, primarily Dungeons and Dragons 5th Edition (DnD5e).\n",
    "\n",
    "The labels make use of the user-assigned \"flair\" from the subreddit [/r/UnearthedArcana](https://www.reddit.com/r/UnearthedArcana/). UnearthedArcana describes itself as a source of \"homebrew\" (fan-generated) content and its community rules ensure that every post has a meaningful label (\"flair\") associated with it. These labels describe the \"type\" of game content that has been created, be it a character \"class\" (think achetypal high-fantasy characters knights, wizards, archers, etc) or a \"race\" (elves, dwarves, humans, etc).\n",
    "\n",
    "At the start of this document we have only the data about the Reddit submission including the submission flair link to the service described above."
   ]
  },
  {
   "cell_type": "code",
   "execution_count": 1,
   "id": "f0df1d02",
   "metadata": {},
   "outputs": [],
   "source": [
    "# Utility Imports\n",
    "import os\n",
    "from pathlib import Path\n",
    "# Imports for data processing/handling\n",
    "import pandas as pd\n",
    "import numpy as np\n",
    "# Plotting\n",
    "import matplotlib as plt\n",
    "import seaborn as sns"
   ]
  },
  {
   "attachments": {},
   "cell_type": "markdown",
   "id": "3776ac50",
   "metadata": {},
   "source": [
    "# This Notebook\n",
    "\n",
    "In this notebook, I'll use the output of manual review of the multi-link comments to further filter and clean the dataset."
   ]
  },
  {
   "cell_type": "code",
   "execution_count": 2,
   "id": "independent-phrase",
   "metadata": {},
   "outputs": [],
   "source": [
    "# Define a constant (CWD) to use\n",
    "CWD = Path(os.getcwd())\n",
    "DATA = CWD / 'data'\n",
    "PRAW = DATA / 'praw_data'"
   ]
  },
  {
   "attachments": {},
   "cell_type": "markdown",
   "id": "5dbb6ab2",
   "metadata": {},
   "source": [
    "# Data Imports\n",
    "There are now two files I'll be working with:\n",
    "1. CommentsFiltered.csv\n",
    "2. CommentsDropped.csv\n",
    "2. MultiLinkCmts.csv\n",
    "\n",
    "If you are not familiar with Reddit, when users post it can take two forms, \"Submissions\" and \"comments.\"\n",
    "\n",
    "Submissions are associated with a specific community or \"subreddit\" and users can comment on Submissions to discuss them or provide additional commentary.\n",
    "Submissions can come in multiple forms: link, text, image, etc. The submissions here are only link submissions. Comments are searched for all other types of submissions as users will frequently post an image version of their content and then link to the text copy in the comments on these subreddits. The vast majority of content on /r/UnearthedArcana comes in this second form (an image submission with the link in the comments).\n",
    "\n",
    "In any case, PRAW-CoDiaLS is written so that they both share the same overall structure, although certain fields are only used for comments (and blank otherwise).\n",
    "\n",
    "### Shared Fields\n",
    "\n",
    "| column name | description |\n",
    "| ----- | ----- |\n",
    "| link | Raw text URL |\n",
    "| submission_author | Reddit user who posted the comment |\n",
    "| submission_id | A unique ID used for locating the submission on Reddit |\n",
    "| submission_title | The title of the submission on Reddit |\n",
    "| subreddit | The name of the Subreddit the content was found on (in this case, either UnearthedArcana or DnDHomebrew) |\n",
    "| submission_flair | the figure number as indicated in the manuscript |\n",
    "| submission_score | The approximate number of net positive votes received by the submission on Reddit, the actual values are obfuscated by Reddit to avoid manipulation |\n",
    "| submission_upvote_ratio | The ratio of positive to negative votes |\n",
    "| submission_date | Date on which the submission was originally made |\n",
    "| comment_author | Reddit user who posted the comment |\n",
    "| comment_id | A unique ID used for locating the comment on Reddit |\n",
    "| comment_score | The approximate number of net positive votes received by the comment on Reddit, the actual values are obfuscated by Reddit to avoid manipulation |\n",
    "| comment_body | Text of the comment containing markdown elements |\n",
    "| comment_date | Date on which the comment was originally posted |\n",
    "\n",
    "### Other Fields\n",
    "\n",
    "| column name | description |\n",
    "| ----- | ----- |\n",
    "| processed | Boolean indicator for whether link has been manually reviewed (MultiLinkCmts.csv only) |\n",
    "| related_link | Boolean indicator for whether link/text was related to the labeled post (MultiLinkCmts.csv only) |\n",
    "| discard_reason | Label indicating why the link was discarded (CommentsDiscarded.csv) |"
   ]
  },
  {
   "cell_type": "code",
   "execution_count": 3,
   "id": "19363ea1",
   "metadata": {},
   "outputs": [],
   "source": [
    "cmts_df = pd.read_csv(PRAW/'CommentsFiltered.csv', index_col='idx').sort_index(axis=0)\n",
    "cmts_df['manually_reviewed'] = False\n",
    "discarded_cmts = pd.read_csv(PRAW/'CommentsDropped.csv', index_col='idx').sort_index(axis=0)\n",
    "multilink_cmts = pd.read_csv(PRAW/'MultiLinkCmts.csv', index_col='idx').sort_index(axis=0)\n",
    "mismatched_author_cmts = pd.read_csv(PRAW/'AuthorIssues.csv', index_col='idx').sort_index(axis=0)"
   ]
  },
  {
   "attachments": {},
   "cell_type": "markdown",
   "id": "89d19b63",
   "metadata": {},
   "source": [
    "# Mismatched Authorship Comments"
   ]
  },
  {
   "attachments": {},
   "cell_type": "markdown",
   "id": "42e02dd2",
   "metadata": {},
   "source": [
    "#### Missing/Invalid Content\n",
    "As before, this includes any links that have either been removed/deleted or otherwise do not really provide useful examples of English 5th edition content (foreign language, styling guides, thought-pieces, etc)\n",
    "\n",
    "#### Duplication/Redundancy\n",
    "Other instances of duplication exist within the dataset. These will be handled similarly to how duplicate submissions were handled in the previous notebook (i.e. prioritizing submissions to /r/UnearthedArcana and earlier postings)"
   ]
  },
  {
   "cell_type": "code",
   "execution_count": 4,
   "id": "09a19fb0",
   "metadata": {},
   "outputs": [],
   "source": [
    "mismatched_author_cmts['flair_correct'] = mismatched_author_cmts['submission_flair'] == mismatched_author_cmts['corrected_flair']"
   ]
  },
  {
   "cell_type": "code",
   "execution_count": 5,
   "id": "cf922516",
   "metadata": {},
   "outputs": [
    {
     "name": "stdout",
     "output_type": "stream",
     "text": [
      "Dropped 8 links with invalid/missing content.\n"
     ]
    }
   ],
   "source": [
    "null_rows = mismatched_author_cmts['corrected_flair'].isna() & mismatched_author_cmts['manually_reviewed']\n",
    "null_df = mismatched_author_cmts[null_rows].copy()\n",
    "null_df['discard_reason'] = \"Invalid/Missing Content Type\"\n",
    "mismatched_author_cmts = mismatched_author_cmts[~null_rows]\n",
    "print(f\"Dropped {len(null_df)} links with invalid/missing content.\")\n",
    "discarded_cmts = pd.concat([discarded_cmts, null_df[~null_df.index.isin(discarded_cmts.index)]])"
   ]
  },
  {
   "cell_type": "code",
   "execution_count": 6,
   "id": "6bcc04e7",
   "metadata": {},
   "outputs": [
    {
     "name": "stdout",
     "output_type": "stream",
     "text": [
      "66.27% of remaining comments had incorrect flair\n"
     ]
    }
   ],
   "source": [
    "err_rate = ((~mismatched_author_cmts['flair_correct']).sum())/len(mismatched_author_cmts)*100\n",
    "print(f\"{err_rate:.2f}% of remaining comments had incorrect flair\")"
   ]
  },
  {
   "attachments": {},
   "cell_type": "markdown",
   "id": "ba80150e",
   "metadata": {},
   "source": [
    "#### Dropping remaining duplicates"
   ]
  },
  {
   "cell_type": "code",
   "execution_count": 7,
   "id": "c3192615",
   "metadata": {},
   "outputs": [],
   "source": [
    "mismatched_author_cmts = mismatched_author_cmts.sort_values(by=[\"submission_date\",\"comment_date\"])\n",
    "duplicated = mismatched_author_cmts.duplicated(subset=['src_url', 'corrected_flair'], keep='first')\n",
    "dup_df = mismatched_author_cmts[duplicated].copy()\n",
    "dup_df['discard_reason'] = \"Duplicate Unambiguous Flair\"\n",
    "discarded_cmts = pd.concat([discarded_cmts, dup_df[~dup_df.index.isin(discarded_cmts)]])"
   ]
  },
  {
   "cell_type": "code",
   "execution_count": 8,
   "id": "ac206019",
   "metadata": {},
   "outputs": [
    {
     "name": "stdout",
     "output_type": "stream",
     "text": [
      "All duplicated links have consistent flair\n"
     ]
    }
   ],
   "source": [
    "mismatches = mismatched_author_cmts.duplicated(subset=[\"src_url\"]).sum() - mismatched_author_cmts.duplicated(subset=[\"src_url\",\"corrected_flair\"]).sum()\n",
    "if mismatches != 0:\n",
    "    print(f\"There are {mismatches} links with inconsistent flair assignments\")\n",
    "    all_dups = mismatched_author_cmts.duplicated(subset=[\"src_url\"], keep=False).index\n",
    "    dups_after_correction = mismatched_author_cmts.duplicated(subset=[\"src_url\",\"corrected_flair\"], keep=False).index\n",
    "    mismatched = [dup for dup in all_dups if dup not in dups_after_correction]\n",
    "    print(mismatched_author_cmts[mismatched_author_cmts.index.isin(mismatched)])\n",
    "else:\n",
    "    print(\"All duplicated links have consistent flair\")"
   ]
  },
  {
   "cell_type": "code",
   "execution_count": 9,
   "id": "9ee4bc30",
   "metadata": {},
   "outputs": [
    {
     "name": "stdout",
     "output_type": "stream",
     "text": [
      "31 duplicate links with un-ambiguous submission flair dropped\n"
     ]
    }
   ],
   "source": [
    "mismatched_author_cmts = mismatched_author_cmts[~duplicated]\n",
    "mismatched_author_cmts.sort_index()\n",
    "print(f\"{duplicated.sum()} duplicate links with un-ambiguous submission flair dropped\")"
   ]
  },
  {
   "cell_type": "code",
   "execution_count": 10,
   "id": "8fadcc03",
   "metadata": {},
   "outputs": [
    {
     "name": "stdout",
     "output_type": "stream",
     "text": [
      "64.82% of remaining comments had incorrect flair\n"
     ]
    }
   ],
   "source": [
    "err_rate = ((~mismatched_author_cmts['flair_correct']).sum())/len(mismatched_author_cmts)*100\n",
    "print(f\"{err_rate:.2f}% of remaining comments had incorrect flair\")"
   ]
  },
  {
   "attachments": {},
   "cell_type": "markdown",
   "id": "f0d2e720",
   "metadata": {},
   "source": [
    "### Fixing/re-merging content"
   ]
  },
  {
   "cell_type": "code",
   "execution_count": 11,
   "id": "922095bf",
   "metadata": {},
   "outputs": [
    {
     "name": "stdout",
     "output_type": "stream",
     "text": [
      "1 links with missing/invalid content types removed from primary comment dataset.\n"
     ]
    }
   ],
   "source": [
    "null_links = null_df['link'].unique()\n",
    "null_rows = cmts_df['link'].isin(null_links)\n",
    "null_df = cmts_df[null_rows].copy()\n",
    "null_df['submission_flair'] = np.nan\n",
    "null_df['discard_reason'] = \"Invalid/Missing Content Type\"\n",
    "discarded_cmts = pd.concat([discarded_cmts, null_df[~null_df.index.isin(discarded_cmts)]])\n",
    "cmts_df = cmts_df[~null_rows]\n",
    "print(f\"{null_rows.sum()} links with missing/invalid content types removed from primary comment dataset.\")"
   ]
  },
  {
   "cell_type": "code",
   "execution_count": 12,
   "id": "83155ce0",
   "metadata": {},
   "outputs": [
    {
     "name": "stdout",
     "output_type": "stream",
     "text": [
      "26 entries updated\n"
     ]
    }
   ],
   "source": [
    "url_mapper = mismatched_author_cmts.set_index('link')['corrected_flair'].to_dict()\n",
    "\n",
    "flair_to_correct = cmts_df['link'].isin(url_mapper.keys())\n",
    "mismatched_author_cmts[mismatched_author_cmts['link'].isin(cmts_df['link'])]\n",
    "flair_to_correct = flair_to_correct & cmts_df['link'].isin(mismatched_author_cmts['link'])\n",
    "\n",
    "cmts_df.loc[flair_to_correct, 'submission_flair'] = cmts_df[flair_to_correct]['link'].map(url_mapper).values\n",
    "cmts_df.loc[flair_to_correct, 'manually_reviewed'] = True\n",
    "\n",
    "print(f\"{flair_to_correct.sum()} entries updated\")"
   ]
  },
  {
   "cell_type": "code",
   "execution_count": 13,
   "id": "aed3aec0",
   "metadata": {},
   "outputs": [],
   "source": [
    "mismatched_author_cmts['submission_flair'] = mismatched_author_cmts['corrected_flair']\n",
    "mismatched_author_cmts = mismatched_author_cmts.drop(columns=['flair_correct', 'corrected_flair', 'src_url'])\n",
    "mismatched_author_cmts = mismatched_author_cmts[~mismatched_author_cmts.index.isin(cmts_df.index)]\n",
    "cmts_df = pd.concat([cmts_df, mismatched_author_cmts[~mismatched_author_cmts.index.isin(cmts_df.index)]])"
   ]
  },
  {
   "attachments": {},
   "cell_type": "markdown",
   "id": "8ea417ab",
   "metadata": {},
   "source": [
    "# Multi-Link Comment Content\n",
    "Next, I'll re-incorporate the manually-reviewed multi-link comment content.\n",
    "\n",
    "I'll perform some limited processing to prune bad content and/or duplicates before I merge them back in.\n",
    "\n",
    "There will be a few angles I'll use for filtering:\n",
    "\n",
    "#### Missing/Invalid Content\n",
    "As before, this includes any links that have either been removed/deleted or otherwise do not really provide useful examples of English 5th edition content (foreign language, styling guides, thought-pieces, etc)\n",
    "\n",
    "#### Content Relation to Parent Submission\n",
    "Discovered links were flagged as either related or unrelated to the main (parent) submission the comment was made under.\n",
    "\n",
    "In many cases, these unrelated posts still provided useful content, so they will be kept. However, I'll preferentially keep the ones that were related to the parent submission.\n",
    "\n",
    "#### Duplication/Redundancy\n",
    "Other instances of duplication exist within the dataset. These will be handled similarly to how duplicate submissions were handled in the previous notebook (i.e. prioritizing submissions to /r/UnearthedArcana and earlier postings)"
   ]
  },
  {
   "cell_type": "code",
   "execution_count": 14,
   "id": "ab2e211f",
   "metadata": {},
   "outputs": [],
   "source": [
    "multilink_cmts['flair_correct'] = multilink_cmts['submission_flair'] == multilink_cmts['corrected_flair']"
   ]
  },
  {
   "cell_type": "code",
   "execution_count": 15,
   "id": "18363017",
   "metadata": {},
   "outputs": [
    {
     "data": {
      "text/plain": [
       "<Axes: xlabel='related_link', ylabel='flair_correct'>"
      ]
     },
     "execution_count": 15,
     "metadata": {},
     "output_type": "execute_result"
    },
    {
     "data": {
      "image/png": "[encoded data removed]",
      "text/plain": [
       "<Figure size 640x480 with 1 Axes>"
      ]
     },
     "metadata": {},
     "output_type": "display_data"
    }
   ],
   "source": [
    "sns.barplot(multilink_cmts, x=\"related_link\", y=\"flair_correct\")"
   ]
  },
  {
   "cell_type": "code",
   "execution_count": 16,
   "id": "315b80da",
   "metadata": {},
   "outputs": [
    {
     "data": {
      "text/plain": [
       "related_link\n",
       "False    0.347273\n",
       "True     0.839378\n",
       "Name: flair_correct, dtype: float64"
      ]
     },
     "execution_count": 16,
     "metadata": {},
     "output_type": "execute_result"
    }
   ],
   "source": [
    "multilink_cmts.groupby('related_link')['flair_correct'].mean()"
   ]
  },
  {
   "cell_type": "code",
   "execution_count": 17,
   "id": "2d630d9d",
   "metadata": {},
   "outputs": [
    {
     "data": {
      "text/plain": [
       "<Axes: xlabel='flair_correct', ylabel='related_link'>"
      ]
     },
     "execution_count": 17,
     "metadata": {},
     "output_type": "execute_result"
    },
    {
     "data": {
      "image/png": "[encoded data removed]",
      "text/plain": [
       "<Figure size 640x480 with 1 Axes>"
      ]
     },
     "metadata": {},
     "output_type": "display_data"
    }
   ],
   "source": [
    "sns.barplot(multilink_cmts, x=\"flair_correct\", y=\"related_link\")"
   ]
  },
  {
   "cell_type": "code",
   "execution_count": 18,
   "id": "7bca3cd0",
   "metadata": {},
   "outputs": [
    {
     "data": {
      "text/plain": [
       "flair_correct\n",
       "False    0.147268\n",
       "True     0.629126\n",
       "Name: related_link, dtype: float64"
      ]
     },
     "execution_count": 18,
     "metadata": {},
     "output_type": "execute_result"
    }
   ],
   "source": [
    "multilink_cmts.groupby('flair_correct')['related_link'].mean()"
   ]
  },
  {
   "cell_type": "code",
   "execution_count": 19,
   "id": "f33ae91f",
   "metadata": {},
   "outputs": [
    {
     "name": "stdout",
     "output_type": "stream",
     "text": [
      "44.98% of manually reviewed links from multi-link comments differed from the submission flair associated with their parent post\n"
     ]
    }
   ],
   "source": [
    "reviewed_cmts = multilink_cmts[multilink_cmts['manually_reviewed']]\n",
    "err_rate = ((~reviewed_cmts['flair_correct']).sum()/len(reviewed_cmts))*100\n",
    "print(f\"{err_rate:.2f}% of manually reviewed links from multi-link comments differed from the submission flair associated with their parent post\")"
   ]
  },
  {
   "attachments": {},
   "cell_type": "markdown",
   "id": "9eac18c4",
   "metadata": {},
   "source": [
    "#### Invalid/Missing Content"
   ]
  },
  {
   "cell_type": "code",
   "execution_count": 20,
   "id": "401ac9d5",
   "metadata": {},
   "outputs": [
    {
     "name": "stdout",
     "output_type": "stream",
     "text": [
      "Removed 2 rows with missing or invalid content.\n"
     ]
    }
   ],
   "source": [
    "null_rows = multilink_cmts['corrected_flair'].isna()\n",
    "null_df = multilink_cmts[null_rows].copy()\n",
    "null_df['discard_reason'] = \"Invalid/Missing Content Type\"\n",
    "discarded_cmts = pd.concat([discarded_cmts, null_df[~null_df.index.isin(discarded_cmts.index)]])\n",
    "multilink_cmts = multilink_cmts[~null_rows]\n",
    "print(f\"Removed {null_rows.sum()} rows with missing or invalid content.\")"
   ]
  },
  {
   "cell_type": "code",
   "execution_count": 21,
   "id": "57c29f49",
   "metadata": {},
   "outputs": [
    {
     "name": "stdout",
     "output_type": "stream",
     "text": [
      "After filtering, 44.86% of manually reviewed links from multi-link comments differed from the submission flair associated with their parent post.\n"
     ]
    }
   ],
   "source": [
    "reviewed_cmts = multilink_cmts[multilink_cmts['manually_reviewed']]\n",
    "err_rate = (~reviewed_cmts['flair_correct']).sum()/len(reviewed_cmts)*100\n",
    "print(f\"After filtering, {err_rate:.2f}% of manually reviewed links from multi-link comments differed from the submission flair associated with their parent post.\")"
   ]
  },
  {
   "attachments": {},
   "cell_type": "markdown",
   "id": "dfe16c38",
   "metadata": {},
   "source": [
    "#### Duplicate Links with Mixed Relationships to the Titular Post\n",
    "\n",
    "In a few particular cases, a link was duplicated within the dataset and included both posts related to and unrelated to the main submission/flair in question.\n",
    "\n",
    "I made to sure keep the related instances in these cases. I did not bother to fix the flair given that these will be discarded."
   ]
  },
  {
   "cell_type": "code",
   "execution_count": 22,
   "id": "58acc7a9",
   "metadata": {},
   "outputs": [
    {
     "data": {
      "text/plain": [
       "Index(['https://homebrewery.naturalcrit.com/source/1-M_mgIo6auMreJ7TIIXkIfisYSUnkO1RYoo6GRrq8ZRr',\n",
       "       'https://homebrewery.naturalcrit.com/source/1-RG_M7OJzm2oMw0cMMXyyzAq3zD1OkJ-Ge_07X_o7ZFE',\n",
       "       'https://homebrewery.naturalcrit.com/source/1-u6fWltBA4ULSqyO0gzZck9zVI344gFiYwhDrq2dcXSl',\n",
       "       'https://homebrewery.naturalcrit.com/source/10HyHBXn_Ol0tae9-t5vpZzIGWKPe5l8W6fCTK77Sd8DD',\n",
       "       'https://homebrewery.naturalcrit.com/source/10WTDFO5SRDmh0x9l8mj-aT_aF0Dce-Kpk_hn68Pftw5j',\n",
       "       'https://homebrewery.naturalcrit.com/source/10_9qbCu_jDdHfG72oZmLv86sX1F_RKp8g9zTdkduosDo',\n",
       "       'https://homebrewery.naturalcrit.com/source/11D123fkj2EWNYBvaXuJKGuqydSzJUYBcowQ5pXPpqxKb',\n",
       "       'https://homebrewery.naturalcrit.com/source/11s4ieAqZiqStfRT3fxFHrHOSLKaUzaifsojvlVDoKawB',\n",
       "       'https://homebrewery.naturalcrit.com/source/13WCQFSjOhpiJJtx6Oq_oZ-aRw_72O6tz8rPrcDxTSiRb',\n",
       "       'https://homebrewery.naturalcrit.com/source/13at3aA6Vd-x6A2mxErg-f8GM0VYm4GeqtN96wsMmubR5',\n",
       "       ...\n",
       "       'https://homebrewery.naturalcrit.com/source/1yjOSStdpYoH7qBuCcjYiHsSHTF01JkYaccEG_4pSv-6O',\n",
       "       'https://homebrewery.naturalcrit.com/source/1ys1ZUyxW9nqoLO9hHUYKuQ_aZ2ID52IUdPfV5PNL86ct',\n",
       "       'https://homebrewery.naturalcrit.com/source/1yuf-qJIezBp6amETuOSghf_TIx07ESI2dh5QrfxJEh_m',\n",
       "       'https://homebrewery.naturalcrit.com/source/1zD40AwGgmlYk3GbiqURXeSPif5t_CaQol8Wf_0PvHm9T',\n",
       "       'https://homebrewery.naturalcrit.com/source/1zF0cq4tQScBk5i3fVqgb_Jh4UUiKZ2S4FBdvdFLSAnX9',\n",
       "       'https://homebrewery.naturalcrit.com/source/1zPl3bj5ILT6s4QB9Klq-l36NCKfDPa0tLSseDEXb84pu',\n",
       "       'https://www.gmbinder.com/share/-MSfA82gv8V69JAoqFVq',\n",
       "       'https://www.gmbinder.com/share/-MW4c30CbGMWLRNgJxgb',\n",
       "       'https://www.gmbinder.com/share/-MtR2w88UA77uX5gCoB2/-MtVAaUoGw_yIam0T0fz/source',\n",
       "       'https://www.gmbinder.com/share/-MvHSJ6CCGPVTHBx0GGk/-MwsghDAelJRrPB2nzDG/source'],\n",
       "      dtype='object', name='src_url', length=142)"
      ]
     },
     "execution_count": 22,
     "metadata": {},
     "output_type": "execute_result"
    }
   ],
   "source": [
    "link_mixture = multilink_cmts.groupby('src_url')['related_link'].mean()\n",
    "multilink_cmts['related_link'] = multilink_cmts['related_link'].astype(bool)\n",
    "mixed_links = link_mixture[(link_mixture>0) & (link_mixture<1)].index\n",
    "mixed_links"
   ]
  },
  {
   "cell_type": "code",
   "execution_count": 23,
   "id": "6f75e872",
   "metadata": {},
   "outputs": [
    {
     "data": {
      "text/html": [
       "<div>\n",
       "<style scoped>\n",
       "    .dataframe tbody tr th:only-of-type {\n",
       "        vertical-align: middle;\n",
       "    }\n",
       "\n",
       "    .dataframe tbody tr th {\n",
       "        vertical-align: top;\n",
       "    }\n",
       "\n",
       "    .dataframe thead th {\n",
       "        text-align: right;\n",
       "    }\n",
       "</style>\n",
       "<table border=\"1\" class=\"dataframe\">\n",
       "  <thead>\n",
       "    <tr style=\"text-align: right;\">\n",
       "      <th></th>\n",
       "      <th>link</th>\n",
       "      <th>submission_author</th>\n",
       "      <th>submission_id</th>\n",
       "      <th>submission_title</th>\n",
       "      <th>subreddit</th>\n",
       "      <th>corrected_flair</th>\n",
       "      <th>submission_score</th>\n",
       "      <th>submission_upvote_ratio</th>\n",
       "      <th>submission_date</th>\n",
       "      <th>comment_author</th>\n",
       "      <th>comment_id</th>\n",
       "      <th>comment_score</th>\n",
       "      <th>comment_body</th>\n",
       "      <th>comment_date</th>\n",
       "      <th>manually_reviewed</th>\n",
       "      <th>related_link</th>\n",
       "      <th>src_url</th>\n",
       "      <th>submission_flair</th>\n",
       "      <th>flair_correct</th>\n",
       "    </tr>\n",
       "    <tr>\n",
       "      <th>idx</th>\n",
       "      <th></th>\n",
       "      <th></th>\n",
       "      <th></th>\n",
       "      <th></th>\n",
       "      <th></th>\n",
       "      <th></th>\n",
       "      <th></th>\n",
       "      <th></th>\n",
       "      <th></th>\n",
       "      <th></th>\n",
       "      <th></th>\n",
       "      <th></th>\n",
       "      <th></th>\n",
       "      <th></th>\n",
       "      <th></th>\n",
       "      <th></th>\n",
       "      <th></th>\n",
       "      <th></th>\n",
       "      <th></th>\n",
       "    </tr>\n",
       "  </thead>\n",
       "  <tbody>\n",
       "    <tr>\n",
       "      <th>3930</th>\n",
       "      <td>https://gmbinder.com/share/-MSfA82gv8V69JAoqFVq</td>\n",
       "      <td>LaserLlama</td>\n",
       "      <td>ynxm9m</td>\n",
       "      <td>laserllama's Alternate Ranger Class (Update!) ...</td>\n",
       "      <td>UnearthedArcana</td>\n",
       "      <td>Class</td>\n",
       "      <td>601</td>\n",
       "      <td>0.98</td>\n",
       "      <td>NaN</td>\n",
       "      <td>LaserLlama</td>\n",
       "      <td>ivdcakk</td>\n",
       "      <td>2</td>\n",
       "      <td>Glad you enjoy the execution!\\n\\nAt some point...</td>\n",
       "      <td>NaN</td>\n",
       "      <td>True</td>\n",
       "      <td>False</td>\n",
       "      <td>https://www.gmbinder.com/share/-MSfA82gv8V69JA...</td>\n",
       "      <td>Class</td>\n",
       "      <td>True</td>\n",
       "    </tr>\n",
       "    <tr>\n",
       "      <th>1286</th>\n",
       "      <td>https://gmbinder.com/share/-MSfA82gv8V69JAoqFVq</td>\n",
       "      <td>LaserLlama</td>\n",
       "      <td>lyfven</td>\n",
       "      <td>The Alternate Fighter (v1.2.0 Update!) - Becom...</td>\n",
       "      <td>UnearthedArcana</td>\n",
       "      <td>Class</td>\n",
       "      <td>475</td>\n",
       "      <td>0.98</td>\n",
       "      <td>3/5/2021 16:40</td>\n",
       "      <td>LaserLlama</td>\n",
       "      <td>gpsfg1d</td>\n",
       "      <td>19</td>\n",
       "      <td>Hello everyone! Here is the third (public) upd...</td>\n",
       "      <td>3/5/2021 16:41</td>\n",
       "      <td>True</td>\n",
       "      <td>True</td>\n",
       "      <td>https://www.gmbinder.com/share/-MSfA82gv8V69JA...</td>\n",
       "      <td>Class</td>\n",
       "      <td>True</td>\n",
       "    </tr>\n",
       "    <tr>\n",
       "      <th>3570</th>\n",
       "      <td>https://gmbinder.com/share/-MW4c30CbGMWLRNgJxgb</td>\n",
       "      <td>LaserLlama</td>\n",
       "      <td>yvb5yt</td>\n",
       "      <td>laserllama's Alternate Ranger: Expanded - A Mu...</td>\n",
       "      <td>UnearthedArcana</td>\n",
       "      <td>Compendium</td>\n",
       "      <td>268</td>\n",
       "      <td>0.98</td>\n",
       "      <td>NaN</td>\n",
       "      <td>LaserLlama</td>\n",
       "      <td>iwdb9t0</td>\n",
       "      <td>7</td>\n",
       "      <td>Hello everyone - today I’m sharing a compendiu...</td>\n",
       "      <td>NaN</td>\n",
       "      <td>True</td>\n",
       "      <td>True</td>\n",
       "      <td>https://www.gmbinder.com/share/-MW4c30CbGMWLRN...</td>\n",
       "      <td>Compendium</td>\n",
       "      <td>True</td>\n",
       "    </tr>\n",
       "    <tr>\n",
       "      <th>1223</th>\n",
       "      <td>https://gmbinder.com/share/-MW4c30CbGMWLRNgJxgb</td>\n",
       "      <td>LaserLlama</td>\n",
       "      <td>m54olt</td>\n",
       "      <td>Ranger Archetypes (New &amp; Updated) - Track your...</td>\n",
       "      <td>UnearthedArcana</td>\n",
       "      <td>Compendium</td>\n",
       "      <td>623</td>\n",
       "      <td>0.99</td>\n",
       "      <td>3/14/2021 21:26</td>\n",
       "      <td>LaserLlama</td>\n",
       "      <td>gvg0bt0</td>\n",
       "      <td>1</td>\n",
       "      <td>No worries, I get them mixed up sometimes too!...</td>\n",
       "      <td>4/22/2021 13:57</td>\n",
       "      <td>True</td>\n",
       "      <td>False</td>\n",
       "      <td>https://www.gmbinder.com/share/-MW4c30CbGMWLRN...</td>\n",
       "      <td>Subclass</td>\n",
       "      <td>False</td>\n",
       "    </tr>\n",
       "    <tr>\n",
       "      <th>1914</th>\n",
       "      <td>https://gmbinder.com/share/-MtR2w88UA77uX5gCoB2</td>\n",
       "      <td>StarSailGames</td>\n",
       "      <td>t2drfi</td>\n",
       "      <td>Circle of Geometry: Summon Fractal Creatures a...</td>\n",
       "      <td>UnearthedArcana</td>\n",
       "      <td>Subclass</td>\n",
       "      <td>50</td>\n",
       "      <td>0.93</td>\n",
       "      <td>2/27/2022 2:32</td>\n",
       "      <td>StarSailGames</td>\n",
       "      <td>hylf7pg</td>\n",
       "      <td>3</td>\n",
       "      <td>Hi everyone! Today I'm sharing a quirky druid ...</td>\n",
       "      <td>2/27/2022 2:33</td>\n",
       "      <td>True</td>\n",
       "      <td>False</td>\n",
       "      <td>https://www.gmbinder.com/share/-MtR2w88UA77uX5...</td>\n",
       "      <td>Subclass</td>\n",
       "      <td>True</td>\n",
       "    </tr>\n",
       "    <tr>\n",
       "      <th>...</th>\n",
       "      <td>...</td>\n",
       "      <td>...</td>\n",
       "      <td>...</td>\n",
       "      <td>...</td>\n",
       "      <td>...</td>\n",
       "      <td>...</td>\n",
       "      <td>...</td>\n",
       "      <td>...</td>\n",
       "      <td>...</td>\n",
       "      <td>...</td>\n",
       "      <td>...</td>\n",
       "      <td>...</td>\n",
       "      <td>...</td>\n",
       "      <td>...</td>\n",
       "      <td>...</td>\n",
       "      <td>...</td>\n",
       "      <td>...</td>\n",
       "      <td>...</td>\n",
       "      <td>...</td>\n",
       "    </tr>\n",
       "    <tr>\n",
       "      <th>2888</th>\n",
       "      <td>https://homebrewery.naturalcrit.com/share/1zD4...</td>\n",
       "      <td>Oh_Hi_Mark_</td>\n",
       "      <td>wngw7y</td>\n",
       "      <td>Give me a D&amp;D monster and I'll homebrew you a ...</td>\n",
       "      <td>DnDHomebrew</td>\n",
       "      <td>Monster</td>\n",
       "      <td>149</td>\n",
       "      <td>0.95</td>\n",
       "      <td>NaN</td>\n",
       "      <td>Oh_Hi_Mark_</td>\n",
       "      <td>ik72rt0</td>\n",
       "      <td>1</td>\n",
       "      <td>* [Manticores](https://homebrewery.naturalcrit...</td>\n",
       "      <td>NaN</td>\n",
       "      <td>True</td>\n",
       "      <td>False</td>\n",
       "      <td>https://homebrewery.naturalcrit.com/source/1zD...</td>\n",
       "      <td>5e</td>\n",
       "      <td>False</td>\n",
       "    </tr>\n",
       "    <tr>\n",
       "      <th>2423</th>\n",
       "      <td>https://homebrewery.naturalcrit.com/share/1zF0...</td>\n",
       "      <td>Oh_Hi_Mark_</td>\n",
       "      <td>whtmbi</td>\n",
       "      <td>Give me a D&amp;D monster and I'll homebrew you a ...</td>\n",
       "      <td>DnDHomebrew</td>\n",
       "      <td>Monster</td>\n",
       "      <td>185</td>\n",
       "      <td>0.95</td>\n",
       "      <td>1659807006</td>\n",
       "      <td>Oh_Hi_Mark_</td>\n",
       "      <td>ij818f8</td>\n",
       "      <td>3</td>\n",
       "      <td>* [Silver Dragons](https://homebrewery.natural...</td>\n",
       "      <td>1659814781</td>\n",
       "      <td>True</td>\n",
       "      <td>True</td>\n",
       "      <td>https://homebrewery.naturalcrit.com/source/1zF...</td>\n",
       "      <td>Monster</td>\n",
       "      <td>True</td>\n",
       "    </tr>\n",
       "    <tr>\n",
       "      <th>3680</th>\n",
       "      <td>https://homebrewery.naturalcrit.com/share/1zF0...</td>\n",
       "      <td>Oh_Hi_Mark_</td>\n",
       "      <td>z092x8</td>\n",
       "      <td>Give me a D&amp;D monster and I'll homebrew you a ...</td>\n",
       "      <td>DnDHomebrew</td>\n",
       "      <td>Monster</td>\n",
       "      <td>26</td>\n",
       "      <td>0.93</td>\n",
       "      <td>NaN</td>\n",
       "      <td>Oh_Hi_Mark_</td>\n",
       "      <td>ix5tk1y</td>\n",
       "      <td>2</td>\n",
       "      <td>Chromatics\\n\\n* [Black Dragons](https://homebr...</td>\n",
       "      <td>NaN</td>\n",
       "      <td>True</td>\n",
       "      <td>False</td>\n",
       "      <td>https://homebrewery.naturalcrit.com/source/1zF...</td>\n",
       "      <td>5e</td>\n",
       "      <td>False</td>\n",
       "    </tr>\n",
       "    <tr>\n",
       "      <th>2644</th>\n",
       "      <td>https://homebrewery.naturalcrit.com/share/1zPl...</td>\n",
       "      <td>Oh_Hi_Mark_</td>\n",
       "      <td>whtmbi</td>\n",
       "      <td>Give me a D&amp;D monster and I'll homebrew you a ...</td>\n",
       "      <td>DnDHomebrew</td>\n",
       "      <td>Monster</td>\n",
       "      <td>185</td>\n",
       "      <td>0.95</td>\n",
       "      <td>1659807006</td>\n",
       "      <td>Oh_Hi_Mark_</td>\n",
       "      <td>ij9p553</td>\n",
       "      <td>1</td>\n",
       "      <td>Oh cool, here's a little CoS care package:\\n\\n...</td>\n",
       "      <td>1659843328</td>\n",
       "      <td>True</td>\n",
       "      <td>True</td>\n",
       "      <td>https://homebrewery.naturalcrit.com/source/1zP...</td>\n",
       "      <td>Monster</td>\n",
       "      <td>True</td>\n",
       "    </tr>\n",
       "    <tr>\n",
       "      <th>3699</th>\n",
       "      <td>https://homebrewery.naturalcrit.com/share/1zPl...</td>\n",
       "      <td>Oh_Hi_Mark_</td>\n",
       "      <td>z092x8</td>\n",
       "      <td>Give me a D&amp;D monster and I'll homebrew you a ...</td>\n",
       "      <td>DnDHomebrew</td>\n",
       "      <td>Monster</td>\n",
       "      <td>26</td>\n",
       "      <td>0.93</td>\n",
       "      <td>NaN</td>\n",
       "      <td>Oh_Hi_Mark_</td>\n",
       "      <td>ix5rwzx</td>\n",
       "      <td>2</td>\n",
       "      <td>I'm in the process of redoing these, but here'...</td>\n",
       "      <td>NaN</td>\n",
       "      <td>True</td>\n",
       "      <td>False</td>\n",
       "      <td>https://homebrewery.naturalcrit.com/source/1zP...</td>\n",
       "      <td>5e</td>\n",
       "      <td>False</td>\n",
       "    </tr>\n",
       "  </tbody>\n",
       "</table>\n",
       "<p>284 rows × 19 columns</p>\n",
       "</div>"
      ],
      "text/plain": [
       "                                                   link submission_author  \\\n",
       "idx                                                                         \n",
       "3930    https://gmbinder.com/share/-MSfA82gv8V69JAoqFVq        LaserLlama   \n",
       "1286    https://gmbinder.com/share/-MSfA82gv8V69JAoqFVq        LaserLlama   \n",
       "3570    https://gmbinder.com/share/-MW4c30CbGMWLRNgJxgb        LaserLlama   \n",
       "1223    https://gmbinder.com/share/-MW4c30CbGMWLRNgJxgb        LaserLlama   \n",
       "1914    https://gmbinder.com/share/-MtR2w88UA77uX5gCoB2     StarSailGames   \n",
       "...                                                 ...               ...   \n",
       "2888  https://homebrewery.naturalcrit.com/share/1zD4...       Oh_Hi_Mark_   \n",
       "2423  https://homebrewery.naturalcrit.com/share/1zF0...       Oh_Hi_Mark_   \n",
       "3680  https://homebrewery.naturalcrit.com/share/1zF0...       Oh_Hi_Mark_   \n",
       "2644  https://homebrewery.naturalcrit.com/share/1zPl...       Oh_Hi_Mark_   \n",
       "3699  https://homebrewery.naturalcrit.com/share/1zPl...       Oh_Hi_Mark_   \n",
       "\n",
       "     submission_id                                   submission_title  \\\n",
       "idx                                                                     \n",
       "3930        ynxm9m  laserllama's Alternate Ranger Class (Update!) ...   \n",
       "1286        lyfven  The Alternate Fighter (v1.2.0 Update!) - Becom...   \n",
       "3570        yvb5yt  laserllama's Alternate Ranger: Expanded - A Mu...   \n",
       "1223        m54olt  Ranger Archetypes (New & Updated) - Track your...   \n",
       "1914        t2drfi  Circle of Geometry: Summon Fractal Creatures a...   \n",
       "...            ...                                                ...   \n",
       "2888        wngw7y  Give me a D&D monster and I'll homebrew you a ...   \n",
       "2423        whtmbi  Give me a D&D monster and I'll homebrew you a ...   \n",
       "3680        z092x8  Give me a D&D monster and I'll homebrew you a ...   \n",
       "2644        whtmbi  Give me a D&D monster and I'll homebrew you a ...   \n",
       "3699        z092x8  Give me a D&D monster and I'll homebrew you a ...   \n",
       "\n",
       "            subreddit corrected_flair  submission_score  \\\n",
       "idx                                                       \n",
       "3930  UnearthedArcana           Class               601   \n",
       "1286  UnearthedArcana           Class               475   \n",
       "3570  UnearthedArcana      Compendium               268   \n",
       "1223  UnearthedArcana      Compendium               623   \n",
       "1914  UnearthedArcana        Subclass                50   \n",
       "...               ...             ...               ...   \n",
       "2888      DnDHomebrew         Monster               149   \n",
       "2423      DnDHomebrew         Monster               185   \n",
       "3680      DnDHomebrew         Monster                26   \n",
       "2644      DnDHomebrew         Monster               185   \n",
       "3699      DnDHomebrew         Monster                26   \n",
       "\n",
       "      submission_upvote_ratio  submission_date comment_author comment_id  \\\n",
       "idx                                                                        \n",
       "3930                     0.98              NaN     LaserLlama    ivdcakk   \n",
       "1286                     0.98   3/5/2021 16:40     LaserLlama    gpsfg1d   \n",
       "3570                     0.98              NaN     LaserLlama    iwdb9t0   \n",
       "1223                     0.99  3/14/2021 21:26     LaserLlama    gvg0bt0   \n",
       "1914                     0.93   2/27/2022 2:32  StarSailGames    hylf7pg   \n",
       "...                       ...              ...            ...        ...   \n",
       "2888                     0.95              NaN    Oh_Hi_Mark_    ik72rt0   \n",
       "2423                     0.95       1659807006    Oh_Hi_Mark_    ij818f8   \n",
       "3680                     0.93              NaN    Oh_Hi_Mark_    ix5tk1y   \n",
       "2644                     0.95       1659807006    Oh_Hi_Mark_    ij9p553   \n",
       "3699                     0.93              NaN    Oh_Hi_Mark_    ix5rwzx   \n",
       "\n",
       "      comment_score                                       comment_body  \\\n",
       "idx                                                                      \n",
       "3930              2  Glad you enjoy the execution!\\n\\nAt some point...   \n",
       "1286             19  Hello everyone! Here is the third (public) upd...   \n",
       "3570              7  Hello everyone - today I’m sharing a compendiu...   \n",
       "1223              1  No worries, I get them mixed up sometimes too!...   \n",
       "1914              3  Hi everyone! Today I'm sharing a quirky druid ...   \n",
       "...             ...                                                ...   \n",
       "2888              1  * [Manticores](https://homebrewery.naturalcrit...   \n",
       "2423              3  * [Silver Dragons](https://homebrewery.natural...   \n",
       "3680              2  Chromatics\\n\\n* [Black Dragons](https://homebr...   \n",
       "2644              1  Oh cool, here's a little CoS care package:\\n\\n...   \n",
       "3699              2  I'm in the process of redoing these, but here'...   \n",
       "\n",
       "         comment_date  manually_reviewed  related_link  \\\n",
       "idx                                                      \n",
       "3930              NaN               True         False   \n",
       "1286   3/5/2021 16:41               True          True   \n",
       "3570              NaN               True          True   \n",
       "1223  4/22/2021 13:57               True         False   \n",
       "1914   2/27/2022 2:33               True         False   \n",
       "...               ...                ...           ...   \n",
       "2888              NaN               True         False   \n",
       "2423       1659814781               True          True   \n",
       "3680              NaN               True         False   \n",
       "2644       1659843328               True          True   \n",
       "3699              NaN               True         False   \n",
       "\n",
       "                                                src_url submission_flair  \\\n",
       "idx                                                                        \n",
       "3930  https://www.gmbinder.com/share/-MSfA82gv8V69JA...            Class   \n",
       "1286  https://www.gmbinder.com/share/-MSfA82gv8V69JA...            Class   \n",
       "3570  https://www.gmbinder.com/share/-MW4c30CbGMWLRN...       Compendium   \n",
       "1223  https://www.gmbinder.com/share/-MW4c30CbGMWLRN...         Subclass   \n",
       "1914  https://www.gmbinder.com/share/-MtR2w88UA77uX5...         Subclass   \n",
       "...                                                 ...              ...   \n",
       "2888  https://homebrewery.naturalcrit.com/source/1zD...               5e   \n",
       "2423  https://homebrewery.naturalcrit.com/source/1zF...          Monster   \n",
       "3680  https://homebrewery.naturalcrit.com/source/1zF...               5e   \n",
       "2644  https://homebrewery.naturalcrit.com/source/1zP...          Monster   \n",
       "3699  https://homebrewery.naturalcrit.com/source/1zP...               5e   \n",
       "\n",
       "      flair_correct  \n",
       "idx                  \n",
       "3930           True  \n",
       "1286           True  \n",
       "3570           True  \n",
       "1223          False  \n",
       "1914           True  \n",
       "...             ...  \n",
       "2888          False  \n",
       "2423           True  \n",
       "3680          False  \n",
       "2644           True  \n",
       "3699          False  \n",
       "\n",
       "[284 rows x 19 columns]"
      ]
     },
     "execution_count": 23,
     "metadata": {},
     "output_type": "execute_result"
    }
   ],
   "source": [
    "multilink_cmts[multilink_cmts['src_url'].isin(mixed_links)].sort_values(by=\"link\")"
   ]
  },
  {
   "cell_type": "code",
   "execution_count": 24,
   "id": "2ea6a258",
   "metadata": {},
   "outputs": [
    {
     "name": "stdout",
     "output_type": "stream",
     "text": [
      "142 duplicates dropped in favor of a comment associated with a relevant parent post.\n"
     ]
    }
   ],
   "source": [
    "inds_to_drop = (multilink_cmts['src_url'].isin(mixed_links)) & (~multilink_cmts['related_link'])\n",
    "unrelated_dups = multilink_cmts[inds_to_drop].copy()\n",
    "unrelated_dups['discard_reason'] = \"Unrelated duplicate link\"\n",
    "discarded_cmts = pd.concat([discarded_cmts, unrelated_dups[~unrelated_dups.index.isin(discarded_cmts.index)]])\n",
    "multilink_cmts = multilink_cmts[~inds_to_drop]\n",
    "print(f\"{inds_to_drop.sum()} duplicates dropped in favor of a comment associated with a relevant parent post.\")"
   ]
  },
  {
   "cell_type": "code",
   "execution_count": 25,
   "id": "162b4e42",
   "metadata": {},
   "outputs": [
    {
     "name": "stdout",
     "output_type": "stream",
     "text": [
      "After filtering, 35.23% of manually reviewed links from multi-link comments differed from the submission flair associated with their parent post.\n"
     ]
    }
   ],
   "source": [
    "reviewed_cmts = multilink_cmts[multilink_cmts['manually_reviewed']]\n",
    "err_rate = (~reviewed_cmts['flair_correct']).sum()/len(reviewed_cmts)*100\n",
    "print(f\"After filtering, {err_rate:.2f}% of manually reviewed links from multi-link comments differed from the submission flair associated with their parent post.\")"
   ]
  },
  {
   "attachments": {},
   "cell_type": "markdown",
   "id": "26113333",
   "metadata": {},
   "source": [
    "#### Dropping remaining duplicates"
   ]
  },
  {
   "cell_type": "code",
   "execution_count": 26,
   "id": "9cf4ed90",
   "metadata": {},
   "outputs": [],
   "source": [
    "multilink_cmts = multilink_cmts.sort_values(by=[\"submission_date\",\"comment_date\"])\n",
    "duplicated = multilink_cmts.duplicated(subset=['src_url', 'corrected_flair'], keep='first')\n",
    "dup_df = multilink_cmts[duplicated].copy()\n",
    "dup_df['discard_reason'] = \"Duplicate Unambiguous Flair\"\n",
    "discarded_cmts = pd.concat([discarded_cmts, dup_df[~dup_df.index.isin(discarded_cmts.index)]])"
   ]
  },
  {
   "cell_type": "code",
   "execution_count": 27,
   "id": "72fb40d9",
   "metadata": {},
   "outputs": [
    {
     "name": "stdout",
     "output_type": "stream",
     "text": [
      "All duplicated links have consistent flair\n"
     ]
    }
   ],
   "source": [
    "mismatches = multilink_cmts.duplicated(subset=[\"src_url\"]).sum() - multilink_cmts.duplicated(subset=[\"src_url\",\"corrected_flair\"]).sum()\n",
    "if mismatches != 0:\n",
    "    print(f\"There are {mismatches} links with inconsistent flair assignments\")\n",
    "    all_dups = multilink_cmts.duplicated(subset=[\"src_url\"], keep=False).index\n",
    "    dups_after_correction = multilink_cmts.duplicated(subset=[\"src_url\",\"corrected_flair\"], keep=False).index\n",
    "    mismatched = [dup for dup in all_dups if dup not in dups_after_correction]\n",
    "    print(multilink_cmts[multilink_cmts.index.isin(mismatched)])\n",
    "else:\n",
    "    print(\"All duplicated links have consistent flair\")"
   ]
  },
  {
   "cell_type": "code",
   "execution_count": 28,
   "id": "cc686115",
   "metadata": {},
   "outputs": [
    {
     "name": "stdout",
     "output_type": "stream",
     "text": [
      "15 duplicate links with un-ambiguous submission flair dropped\n"
     ]
    }
   ],
   "source": [
    "multilink_cmts = multilink_cmts[~duplicated]\n",
    "multilink_cmts.sort_index()\n",
    "print(f\"{duplicated.sum()} duplicate links with un-ambiguous submission flair dropped\")"
   ]
  },
  {
   "cell_type": "code",
   "execution_count": 29,
   "id": "80df8441",
   "metadata": {},
   "outputs": [
    {
     "name": "stdout",
     "output_type": "stream",
     "text": [
      "After filtering, 35.01% of manually reviewed links from multi-link comments differed from the submission flair associated with their parent post.\n"
     ]
    }
   ],
   "source": [
    "reviewed_cmts = multilink_cmts[multilink_cmts['manually_reviewed']]\n",
    "err_rate = (~reviewed_cmts['flair_correct']).sum()/len(reviewed_cmts)*100\n",
    "print(f\"After filtering, {err_rate:.2f}% of manually reviewed links from multi-link comments differed from the submission flair associated with their parent post.\")"
   ]
  },
  {
   "attachments": {},
   "cell_type": "markdown",
   "id": "6e1c3b75",
   "metadata": {},
   "source": [
    "### Fixing/re-merging content"
   ]
  },
  {
   "cell_type": "code",
   "execution_count": 30,
   "id": "bc0678cd",
   "metadata": {},
   "outputs": [
    {
     "name": "stdout",
     "output_type": "stream",
     "text": [
      "0 links with missing/invalid content types removed from primary comment dataset.\n"
     ]
    }
   ],
   "source": [
    "null_links = null_df['link'].unique()\n",
    "null_rows = cmts_df['link'].isin(null_links)\n",
    "null_df = cmts_df[null_rows].copy()\n",
    "null_df['submission_flair'] = np.nan\n",
    "null_df['discard_reason'] = \"Invalid/Missing Content Type\"\n",
    "discarded_cmts = pd.concat([discarded_cmts, null_df[~null_df.index.isin(discarded_cmts.index)]])\n",
    "cmts_df = cmts_df[~null_rows]\n",
    "print(f\"{null_rows.sum()} links with missing/invalid content types removed from primary comment dataset.\")"
   ]
  },
  {
   "cell_type": "code",
   "execution_count": 31,
   "id": "c10b3ee2",
   "metadata": {},
   "outputs": [],
   "source": [
    "url_mapper = multilink_cmts.set_index('link')['corrected_flair'].to_dict()\n",
    "flair_to_correct = cmts_df['link'].isin(url_mapper.keys())\n",
    "flair_to_correct = flair_to_correct & cmts_df['link'].isin(multilink_cmts['link'])"
   ]
  },
  {
   "cell_type": "code",
   "execution_count": 32,
   "id": "c4e35c95",
   "metadata": {},
   "outputs": [
    {
     "name": "stdout",
     "output_type": "stream",
     "text": [
      "30 entries updated\n"
     ]
    }
   ],
   "source": [
    "cmts_df.loc[flair_to_correct, 'submission_flair'] = cmts_df[flair_to_correct]['link'].map(url_mapper).values\n",
    "cmts_df.loc[flair_to_correct, 'manually_reviewed'] = True\n",
    "print(f\"{flair_to_correct.sum()} entries updated\")"
   ]
  },
  {
   "cell_type": "code",
   "execution_count": 33,
   "id": "e43a49cb",
   "metadata": {},
   "outputs": [],
   "source": [
    "multilink_cmts['submission_flair'] = multilink_cmts['corrected_flair']\n",
    "multilink_cmts = multilink_cmts.drop(columns=['flair_correct', 'corrected_flair', 'src_url'])\n",
    "cmts_df = pd.concat([cmts_df,multilink_cmts[~multilink_cmts.index.isin(cmts_df.index)]])"
   ]
  },
  {
   "attachments": {},
   "cell_type": "markdown",
   "id": "e078ff72",
   "metadata": {},
   "source": [
    "### Part 2 -- Duplications: Content updates/versioning\n",
    "\n",
    "Now that we've re-incorporated all of the content we've revieed so far, we'll further filter down the dataset.\n",
    "\n",
    "Some content gets re-posted occasionally with updates. These often aren't materially different and they can skew our perception of how the resulting model performs in the real world. i.e. if we use an earlier verion of a document for training then attempt to predict a slightly modified/updated version during testing, we'll over-estimate performance\n",
    "\n",
    "The earlier processing by date will have removed some instances of this, but only in select cases. Here I'll keep the oldest instance of each link for which the flair is the same. This should fix most cases of versioning, while also fixing a few other issues surrounding re-posted content."
   ]
  },
  {
   "cell_type": "code",
   "execution_count": 34,
   "id": "579997f1",
   "metadata": {},
   "outputs": [
    {
     "name": "stdout",
     "output_type": "stream",
     "text": [
      "91 duplicate links with un-ambiguous submission flair dropped\n"
     ]
    }
   ],
   "source": [
    "cmt_dups = cmts_df.sort_values(by=[\"manually_reviewed\",'subreddit','submission_date','related_link'], axis=0, ascending=[False,False,True,False])\n",
    "cmt_dups = cmt_dups[cmt_dups.duplicated(subset=['link','submission_flair'], keep='first')]\n",
    "cmt_dups['discard_reason'] = 'Duplicate Unambiguous Flair'\n",
    "discarded_cmts = pd.concat([discarded_cmts, cmt_dups])\n",
    "print(f\"{len(cmt_dups)} duplicate links with un-ambiguous submission flair dropped\")\n",
    "cmts_df = cmts_df[~cmts_df.index.isin(cmt_dups.index)]"
   ]
  },
  {
   "attachments": {},
   "cell_type": "markdown",
   "id": "83fcae42",
   "metadata": {},
   "source": [
    "### Part 3 -- Remaining duplicates\n",
    "\n",
    "I'll manually sort out any remaining issues in the code blocks below."
   ]
  },
  {
   "cell_type": "code",
   "execution_count": 35,
   "id": "0c20e1aa",
   "metadata": {},
   "outputs": [
    {
     "data": {
      "text/html": [
       "<div>\n",
       "<style scoped>\n",
       "    .dataframe tbody tr th:only-of-type {\n",
       "        vertical-align: middle;\n",
       "    }\n",
       "\n",
       "    .dataframe tbody tr th {\n",
       "        vertical-align: top;\n",
       "    }\n",
       "\n",
       "    .dataframe thead th {\n",
       "        text-align: right;\n",
       "    }\n",
       "</style>\n",
       "<table border=\"1\" class=\"dataframe\">\n",
       "  <thead>\n",
       "    <tr style=\"text-align: right;\">\n",
       "      <th></th>\n",
       "      <th>link</th>\n",
       "      <th>submission_author</th>\n",
       "      <th>submission_id</th>\n",
       "      <th>submission_title</th>\n",
       "      <th>subreddit</th>\n",
       "      <th>submission_flair</th>\n",
       "      <th>submission_score</th>\n",
       "      <th>submission_upvote_ratio</th>\n",
       "      <th>submission_date</th>\n",
       "      <th>comment_author</th>\n",
       "      <th>comment_id</th>\n",
       "      <th>comment_score</th>\n",
       "      <th>comment_body</th>\n",
       "      <th>comment_date</th>\n",
       "      <th>manually_reviewed</th>\n",
       "      <th>related_link</th>\n",
       "    </tr>\n",
       "    <tr>\n",
       "      <th>idx</th>\n",
       "      <th></th>\n",
       "      <th></th>\n",
       "      <th></th>\n",
       "      <th></th>\n",
       "      <th></th>\n",
       "      <th></th>\n",
       "      <th></th>\n",
       "      <th></th>\n",
       "      <th></th>\n",
       "      <th></th>\n",
       "      <th></th>\n",
       "      <th></th>\n",
       "      <th></th>\n",
       "      <th></th>\n",
       "      <th></th>\n",
       "      <th></th>\n",
       "    </tr>\n",
       "  </thead>\n",
       "  <tbody>\n",
       "    <tr>\n",
       "      <th>2189</th>\n",
       "      <td>https://gmbinder.com/share/-Mt-8R9tQYhuLrhMR5-L</td>\n",
       "      <td>Sensitive_Coyote_865</td>\n",
       "      <td>sp43pv</td>\n",
       "      <td>Conjure insect - A druid cantrip</td>\n",
       "      <td>UnearthedArcana</td>\n",
       "      <td>Spell</td>\n",
       "      <td>783</td>\n",
       "      <td>0.98</td>\n",
       "      <td>1644491044.0</td>\n",
       "      <td>Sensitive_Coyote_865</td>\n",
       "      <td>hwcq3c5</td>\n",
       "      <td>66</td>\n",
       "      <td>I don't know about you, but I love semi-useles...</td>\n",
       "      <td>1644491171.0</td>\n",
       "      <td>False</td>\n",
       "      <td>NaN</td>\n",
       "    </tr>\n",
       "    <tr>\n",
       "      <th>2899</th>\n",
       "      <td>https://gmbinder.com/share/-Mt-8R9tQYhuLrhMR5-L</td>\n",
       "      <td>Sensitive_Coyote_865</td>\n",
       "      <td>wo8xq3</td>\n",
       "      <td>Circle of Vermin - final-ish version</td>\n",
       "      <td>UnearthedArcana</td>\n",
       "      <td>Subclass</td>\n",
       "      <td>241</td>\n",
       "      <td>0.99</td>\n",
       "      <td>1660490698.0</td>\n",
       "      <td>Sensitive_Coyote_865</td>\n",
       "      <td>ik9gy7p</td>\n",
       "      <td>6</td>\n",
       "      <td>Here is the final (more or less) version of my...</td>\n",
       "      <td>1660490783.0</td>\n",
       "      <td>False</td>\n",
       "      <td>NaN</td>\n",
       "    </tr>\n",
       "  </tbody>\n",
       "</table>\n",
       "</div>"
      ],
      "text/plain": [
       "                                                 link     submission_author  \\\n",
       "idx                                                                           \n",
       "2189  https://gmbinder.com/share/-Mt-8R9tQYhuLrhMR5-L  Sensitive_Coyote_865   \n",
       "2899  https://gmbinder.com/share/-Mt-8R9tQYhuLrhMR5-L  Sensitive_Coyote_865   \n",
       "\n",
       "     submission_id                      submission_title        subreddit  \\\n",
       "idx                                                                         \n",
       "2189        sp43pv      Conjure insect - A druid cantrip  UnearthedArcana   \n",
       "2899        wo8xq3  Circle of Vermin - final-ish version  UnearthedArcana   \n",
       "\n",
       "     submission_flair  submission_score  submission_upvote_ratio  \\\n",
       "idx                                                                \n",
       "2189            Spell               783                     0.98   \n",
       "2899         Subclass               241                     0.99   \n",
       "\n",
       "     submission_date        comment_author comment_id  comment_score  \\\n",
       "idx                                                                    \n",
       "2189    1644491044.0  Sensitive_Coyote_865    hwcq3c5             66   \n",
       "2899    1660490698.0  Sensitive_Coyote_865    ik9gy7p              6   \n",
       "\n",
       "                                           comment_body  comment_date  \\\n",
       "idx                                                                     \n",
       "2189  I don't know about you, but I love semi-useles...  1644491171.0   \n",
       "2899  Here is the final (more or less) version of my...  1660490783.0   \n",
       "\n",
       "      manually_reviewed related_link  \n",
       "idx                                   \n",
       "2189              False          NaN  \n",
       "2899              False          NaN  "
      ]
     },
     "execution_count": 35,
     "metadata": {},
     "output_type": "execute_result"
    }
   ],
   "source": [
    "remaining_dups = cmts_df.duplicated(subset='link', keep=False)\n",
    "cmts_df[remaining_dups].sort_values(by=['link','manually_reviewed'], ascending=False)"
   ]
  },
  {
   "cell_type": "code",
   "execution_count": 36,
   "id": "f578b805",
   "metadata": {},
   "outputs": [],
   "source": [
    "to_remove = cmts_df.duplicated(subset='link', keep='last')\n",
    "# This appears to have been updated since the original posting\n",
    "manual_removal = cmts_df[to_remove].copy()\n",
    "manual_removal ['discard_reason'] = 'Manually removed mislabeled'\n",
    "cmts_df = cmts_df[~to_remove]\n",
    "discarded_cmts = pd.concat([discarded_cmts, manual_removal])"
   ]
  },
  {
   "cell_type": "code",
   "execution_count": 37,
   "id": "fc6cb5cf",
   "metadata": {},
   "outputs": [
    {
     "data": {
      "text/plain": [
       "UA crosspost                    302\n",
       "Simple duplicate                235\n",
       "Has UA primary submission       215\n",
       "Newer multi-comment             181\n",
       "Unrelated duplicate link        142\n",
       "Duplicate Unambiguous Flair     137\n",
       "Missing path                     33\n",
       "Invalid/Missing Content Type     18\n",
       "Manually removed mislabeled       1\n",
       "Name: discard_reason, dtype: int64"
      ]
     },
     "execution_count": 37,
     "metadata": {},
     "output_type": "execute_result"
    }
   ],
   "source": [
    "discarded_cmts['discard_reason'].value_counts()"
   ]
  },
  {
   "cell_type": "code",
   "execution_count": 38,
   "id": "2ab5eb0a",
   "metadata": {},
   "outputs": [],
   "source": [
    "discarded_cmts.to_csv(PRAW/'FinalCommentsDropped.csv', index_label='idx')\n",
    "cmts_df.to_csv(PRAW/'FinalCommentsFiltered.csv', index_label='idx')"
   ]
  }
 ],
 "metadata": {
  "kernelspec": {
   "display_name": "base",
   "language": "python",
   "name": "python3"
  },
  "language_info": {
   "codemirror_mode": {
    "name": "ipython",
    "version": 3
   },
   "file_extension": ".py",
   "mimetype": "text/x-python",
   "name": "python",
   "nbconvert_exporter": "python",
   "pygments_lexer": "ipython3",
   "version": "3.10.9"
  },
  "vscode": {
   "interpreter": {
    "hash": "c739df7216996af44517d475e62739a71a77ba3d210c35292fab841551565cb7"
   }
  }
 },
 "nbformat": 4,
 "nbformat_minor": 5
}
